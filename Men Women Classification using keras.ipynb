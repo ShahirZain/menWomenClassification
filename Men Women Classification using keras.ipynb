{
 "cells": [
  {
   "cell_type": "code",
   "execution_count": 1,
   "metadata": {},
   "outputs": [],
   "source": [
    "import shutil\n",
    "import os"
   ]
  },
  {
   "cell_type": "code",
   "execution_count": 2,
   "metadata": {},
   "outputs": [
    {
     "name": "stdout",
     "output_type": "stream",
     "text": [
      "<module 'os' from '/home/shahir/anaconda3/lib/python3.7/os.py'>\n"
     ]
    }
   ],
   "source": [
    "print(os)"
   ]
  },
  {
   "cell_type": "code",
   "execution_count": 21,
   "metadata": {},
   "outputs": [],
   "source": [
    "data = \"../../men-women-classification/data\""
   ]
  },
  {
   "cell_type": "code",
   "execution_count": 22,
   "metadata": {},
   "outputs": [],
   "source": [
    "men = os.path.join(data , \"men\")\n",
    "women = os.path.join(data, 'women')"
   ]
  },
  {
   "cell_type": "code",
   "execution_count": 40,
   "metadata": {},
   "outputs": [
    {
     "name": "stdout",
     "output_type": "stream",
     "text": [
      "Men images :  1418\n",
      "Women images :  1912\n"
     ]
    }
   ],
   "source": [
    "print( \"Men images : \" , len(os.listdir(men)))\n",
    "print( \"Women images : \" , len(os.listdir(women)))"
   ]
  },
  {
   "cell_type": "code",
   "execution_count": 26,
   "metadata": {},
   "outputs": [],
   "source": [
    "base = \"data\"\n",
    "os.mkdir(base)"
   ]
  },
  {
   "cell_type": "code",
   "execution_count": 29,
   "metadata": {},
   "outputs": [],
   "source": [
    "trainDir = os.path.join(base ,\"train\")\n",
    "os.mkdir(trainDir)\n",
    "validDir = os.path.join(base ,\"valid\")\n",
    "os.mkdir(validDir)\n",
    "testDir = os.path.join(base ,\"test\")\n",
    "os.mkdir(testDir)"
   ]
  },
  {
   "cell_type": "code",
   "execution_count": 30,
   "metadata": {},
   "outputs": [],
   "source": [
    "train_men_Dir = os.path.join(trainDir ,\"men\")\n",
    "os.mkdir(train_men_Dir)\n",
    "train_women_Dir = os.path.join(trainDir ,\"women\")\n",
    "os.mkdir(train_women_Dir)\n",
    "valid_men_Dir = os.path.join(validDir ,\"men\")\n",
    "os.mkdir(valid_men_Dir)\n",
    "valid_women_Dir = os.path.join(validDir ,\"women\")\n",
    "os.mkdir(valid_women_Dir)\n",
    "test_men_Dir = os.path.join(testDir ,\"men\")\n",
    "os.mkdir(test_men_Dir)\n",
    "test_women_Dir = os.path.join(testDir ,\"women\")\n",
    "os.mkdir(test_women_Dir)"
   ]
  },
  {
   "cell_type": "code",
   "execution_count": 48,
   "metadata": {},
   "outputs": [],
   "source": [
    "menList = [i for i in os.listdir(men)]\n",
    "womenList = [i for i in os.listdir(women)]"
   ]
  },
  {
   "cell_type": "code",
   "execution_count": 52,
   "metadata": {},
   "outputs": [
    {
     "data": {
      "text/plain": [
       "(1418, 1912)"
      ]
     },
     "execution_count": 52,
     "metadata": {},
     "output_type": "execute_result"
    }
   ],
   "source": [
    "len(menList),len(womenList)"
   ]
  },
  {
   "cell_type": "code",
   "execution_count": 53,
   "metadata": {},
   "outputs": [],
   "source": [
    "#copying images from destination folder to train folder for men\n",
    "fnames = [menList[i] for i in range(800)]\n",
    "for fname in fnames:\n",
    "    src = os.path.join(men, fname)\n",
    "    dst = os.path.join(train_men_Dir, fname)\n",
    "    shutil.copyfile(src, dst)"
   ]
  },
  {
   "cell_type": "code",
   "execution_count": 54,
   "metadata": {},
   "outputs": [],
   "source": [
    "#copying images from destination folder to train folder for women\n",
    "fnames = [womenList[i] for i in range(800)]\n",
    "for fname in fnames:\n",
    "    src = os.path.join(women, fname)\n",
    "    dst = os.path.join(train_women_Dir, fname)\n",
    "    shutil.copyfile(src, dst)"
   ]
  },
  {
   "cell_type": "code",
   "execution_count": 58,
   "metadata": {},
   "outputs": [],
   "source": [
    "#copying images from destination folder to validation folder for men\n",
    "fnames = [menList[i] for i in range(800,1200)]\n",
    "for fname in fnames:\n",
    "    src = os.path.join(men,fname)\n",
    "    dst = os.path.join(valid_men_Dir,fname)\n",
    "    shutil.copyfile(src,dst)"
   ]
  },
  {
   "cell_type": "code",
   "execution_count": 61,
   "metadata": {},
   "outputs": [],
   "source": [
    "#copying images from destination folder to validation folder for women\n",
    "fnames = [womenList[i] for i in range(800,1200)]\n",
    "for fname in fnames:\n",
    "    src = os.path.join(women,fname)\n",
    "    dst = os.path.join(valid_women_Dir,fname)\n",
    "    shutil.copyfile(src,dst)"
   ]
  },
  {
   "cell_type": "code",
   "execution_count": 63,
   "metadata": {},
   "outputs": [],
   "source": [
    "#copying images from destination folder to test folder for men\n",
    "fnames = [menList[i] for i in range(1200,1418)]\n",
    "for fname in fnames:\n",
    "    src = os.path.join(men,fname)\n",
    "    dst = os.path.join(test_men_Dir,fname)\n",
    "    shutil.copyfile(src,dst)"
   ]
  },
  {
   "cell_type": "code",
   "execution_count": 66,
   "metadata": {},
   "outputs": [],
   "source": [
    "#copying images from destination folder to test folder for women\n",
    "fnames = [womenList[i] for i in range(1200,1418)]\n",
    "for fname in fnames:\n",
    "    src = os.path.join(women,fname)\n",
    "    dst = os.path.join(test_women_Dir,fname)\n",
    "    shutil.copyfile(src,dst)"
   ]
  },
  {
   "cell_type": "code",
   "execution_count": null,
   "metadata": {},
   "outputs": [],
   "source": []
  }
 ],
 "metadata": {
  "kernelspec": {
   "display_name": "Python 3",
   "language": "python",
   "name": "python3"
  },
  "language_info": {
   "codemirror_mode": {
    "name": "ipython",
    "version": 3
   },
   "file_extension": ".py",
   "mimetype": "text/x-python",
   "name": "python",
   "nbconvert_exporter": "python",
   "pygments_lexer": "ipython3",
   "version": "3.7.4"
  }
 },
 "nbformat": 4,
 "nbformat_minor": 2
}
